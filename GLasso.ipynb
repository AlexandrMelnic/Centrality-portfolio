{
  "nbformat": 4,
  "nbformat_minor": 0,
  "metadata": {
    "colab": {
      "name": "GLasso.ipynb",
      "provenance": [],
      "collapsed_sections": [
        "PNFP4LbKyKr_"
      ]
    },
    "kernelspec": {
      "display_name": "Python 3",
      "name": "python3"
    }
  },
  "cells": [
    {
      "cell_type": "markdown",
      "metadata": {
        "id": "PNFP4LbKyKr_"
      },
      "source": [
        "### Imports and downloads"
      ]
    },
    {
      "cell_type": "markdown",
      "metadata": {
        "id": "xAc_lzkyVvxT"
      },
      "source": [
        "The dataset contains daily prices of the s&p 500 from 2013 to 2018. It is available on kaggle https://www.kaggle.com/camnugent/sandp500 and the download is performed in the next cells."
      ]
    },
    {
      "cell_type": "code",
      "metadata": {
        "colab": {
          "resources": {
            "http://localhost:8080/nbextensions/google.colab/files.js": {
              "data": "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",
              "headers": [
                [
                  "content-type",
                  "application/javascript"
                ]
              ],
              "ok": true,
              "status": 200,
              "status_text": ""
            }
          },
          "base_uri": "https://localhost:8080/",
          "height": 123
        },
        "id": "SWa_mU-mqfVA",
        "outputId": "27adda91-e4bc-4422-b5ab-bae4162f1ef4"
      },
      "source": [
        "from google.colab import files\r\n",
        "\r\n",
        "files.upload() # import the json file provided by kaggle\r\n",
        "! mkdir ~/.kaggle\r\n",
        "! cp kaggle.json ~/.kaggle/\r\n",
        "! chmod 600 ~/.kaggle/kaggle.json\r\n",
        "! kaggle datasets download -d camnugent/sandp500\r\n",
        "!unzip -q /content/sandp500.zip"
      ],
      "execution_count": null,
      "outputs": [
        {
          "output_type": "display_data",
          "data": {
            "text/html": [
              "\n",
              "     <input type=\"file\" id=\"files-8ebe59be-905e-43b8-9021-63766f211ad0\" name=\"files[]\" multiple disabled\n",
              "        style=\"border:none\" />\n",
              "     <output id=\"result-8ebe59be-905e-43b8-9021-63766f211ad0\">\n",
              "      Upload widget is only available when the cell has been executed in the\n",
              "      current browser session. Please rerun this cell to enable.\n",
              "      </output>\n",
              "      <script src=\"/nbextensions/google.colab/files.js\"></script> "
            ],
            "text/plain": [
              "<IPython.core.display.HTML object>"
            ]
          },
          "metadata": {
            "tags": []
          }
        },
        {
          "output_type": "stream",
          "text": [
            "Saving kaggle.json to kaggle.json\n",
            "Downloading sandp500.zip to /content\n",
            " 47% 9.00M/19.3M [00:00<00:00, 28.8MB/s]\n",
            "100% 19.3M/19.3M [00:00<00:00, 48.8MB/s]\n"
          ],
          "name": "stdout"
        }
      ]
    },
    {
      "cell_type": "markdown",
      "metadata": {
        "id": "Q359GzgUWK9h"
      },
      "source": [
        "The initial dataset does not contain informations about the sector of the companies, for this reason this is download from another source."
      ]
    },
    {
      "cell_type": "code",
      "metadata": {
        "colab": {
          "base_uri": "https://localhost:8080/"
        },
        "id": "ShRrVWp7rsMC",
        "outputId": "309d43d6-cc47-4229-9186-4fbaf4d94026"
      },
      "source": [
        "! wget https://datahub.io/core/s-and-p-500-companies/r/s-and-p-500-companies_zip.zip\r\n",
        "! unzip -q /content/s-and-p-500-companies_zip.zip"
      ],
      "execution_count": null,
      "outputs": [
        {
          "output_type": "stream",
          "text": [
            "--2021-02-12 21:31:35--  https://datahub.io/core/s-and-p-500-companies/r/s-and-p-500-companies_zip.zip\n",
            "Resolving datahub.io (datahub.io)... 172.67.157.38, 104.21.40.221, 2606:4700:3033::6815:28dd, ...\n",
            "Connecting to datahub.io (datahub.io)|172.67.157.38|:443... connected.\n",
            "HTTP request sent, awaiting response... 302 Found\n",
            "Location: https://pkgstore.datahub.io/core/s-and-p-500-companies/s-and-p-500-companies_zip/data/e0a52283e0435c199d12eab13d259c69/s-and-p-500-companies_zip.zip [following]\n",
            "--2021-02-12 21:31:36--  https://pkgstore.datahub.io/core/s-and-p-500-companies/s-and-p-500-companies_zip/data/e0a52283e0435c199d12eab13d259c69/s-and-p-500-companies_zip.zip\n",
            "Resolving pkgstore.datahub.io (pkgstore.datahub.io)... 172.67.157.38, 104.21.40.221, 2606:4700:3033::6815:28dd, ...\n",
            "Connecting to pkgstore.datahub.io (pkgstore.datahub.io)|172.67.157.38|:443... connected.\n",
            "HTTP request sent, awaiting response... 200 OK\n",
            "Length: 23084 (23K) [application/zip]\n",
            "Saving to: ‘s-and-p-500-companies_zip.zip’\n",
            "\n",
            "s-and-p-500-compani 100%[===================>]  22.54K  --.-KB/s    in 0.07s   \n",
            "\n",
            "2021-02-12 21:31:36 (303 KB/s) - ‘s-and-p-500-companies_zip.zip’ saved [23084/23084]\n",
            "\n"
          ],
          "name": "stdout"
        }
      ]
    },
    {
      "cell_type": "code",
      "metadata": {
        "colab": {
          "base_uri": "https://localhost:8080/"
        },
        "id": "nlZC0qj2er0h",
        "outputId": "ba4807c7-5a5c-4230-9d56-bed46042acc4"
      },
      "source": [
        "!pip install yfinance"
      ],
      "execution_count": null,
      "outputs": [
        {
          "output_type": "stream",
          "text": [
            "Collecting yfinance\n",
            "  Downloading https://files.pythonhosted.org/packages/7a/e8/b9d7104d3a4bf39924799067592d9e59119fcfc900a425a12e80a3123ec8/yfinance-0.1.55.tar.gz\n",
            "Requirement already satisfied: pandas>=0.24 in /usr/local/lib/python3.6/dist-packages (from yfinance) (1.1.5)\n",
            "Requirement already satisfied: numpy>=1.15 in /usr/local/lib/python3.6/dist-packages (from yfinance) (1.19.5)\n",
            "Requirement already satisfied: requests>=2.20 in /usr/local/lib/python3.6/dist-packages (from yfinance) (2.23.0)\n",
            "Requirement already satisfied: multitasking>=0.0.7 in /usr/local/lib/python3.6/dist-packages (from yfinance) (0.0.9)\n",
            "Collecting lxml>=4.5.1\n",
            "\u001b[?25l  Downloading https://files.pythonhosted.org/packages/bd/78/56a7c88a57d0d14945472535d0df9fb4bbad7d34ede658ec7961635c790e/lxml-4.6.2-cp36-cp36m-manylinux1_x86_64.whl (5.5MB)\n",
            "\u001b[K     |████████████████████████████████| 5.5MB 11.3MB/s \n",
            "\u001b[?25hRequirement already satisfied: pytz>=2017.2 in /usr/local/lib/python3.6/dist-packages (from pandas>=0.24->yfinance) (2018.9)\n",
            "Requirement already satisfied: python-dateutil>=2.7.3 in /usr/local/lib/python3.6/dist-packages (from pandas>=0.24->yfinance) (2.8.1)\n",
            "Requirement already satisfied: idna<3,>=2.5 in /usr/local/lib/python3.6/dist-packages (from requests>=2.20->yfinance) (2.10)\n",
            "Requirement already satisfied: urllib3!=1.25.0,!=1.25.1,<1.26,>=1.21.1 in /usr/local/lib/python3.6/dist-packages (from requests>=2.20->yfinance) (1.24.3)\n",
            "Requirement already satisfied: certifi>=2017.4.17 in /usr/local/lib/python3.6/dist-packages (from requests>=2.20->yfinance) (2020.12.5)\n",
            "Requirement already satisfied: chardet<4,>=3.0.2 in /usr/local/lib/python3.6/dist-packages (from requests>=2.20->yfinance) (3.0.4)\n",
            "Requirement already satisfied: six>=1.5 in /usr/local/lib/python3.6/dist-packages (from python-dateutil>=2.7.3->pandas>=0.24->yfinance) (1.15.0)\n",
            "Building wheels for collected packages: yfinance\n",
            "  Building wheel for yfinance (setup.py) ... \u001b[?25l\u001b[?25hdone\n",
            "  Created wheel for yfinance: filename=yfinance-0.1.55-py2.py3-none-any.whl size=22616 sha256=eafce0ba72dc918195e2c61c7f02f1c045be3985b3bc6dbc2ed4c4d4882a2553\n",
            "  Stored in directory: /root/.cache/pip/wheels/04/98/cc/2702a4242d60bdc14f48b4557c427ded1fe92aedf257d4565c\n",
            "Successfully built yfinance\n",
            "Installing collected packages: lxml, yfinance\n",
            "  Found existing installation: lxml 4.2.6\n",
            "    Uninstalling lxml-4.2.6:\n",
            "      Successfully uninstalled lxml-4.2.6\n",
            "Successfully installed lxml-4.6.2 yfinance-0.1.55\n"
          ],
          "name": "stdout"
        }
      ]
    },
    {
      "cell_type": "code",
      "metadata": {
        "id": "YPoq54dne_cw"
      },
      "source": [
        "!pip install yahoofinancials"
      ],
      "execution_count": null,
      "outputs": []
    },
    {
      "cell_type": "code",
      "metadata": {
        "id": "W8JBaSxaq-zV"
      },
      "source": [
        "import pandas as pd\r\n",
        "import numpy as np\r\n",
        "import matplotlib.pyplot as plt\r\n",
        "import networkx as nx\r\n",
        "import yfinance as yf\r\n",
        "from yahoofinancials import YahooFinancials\r\n",
        "\r\n",
        "plt.style.use('ggplot')"
      ],
      "execution_count": null,
      "outputs": []
    },
    {
      "cell_type": "markdown",
      "metadata": {
        "id": "osgy5g-vsRQZ"
      },
      "source": [
        "### Data manipulation"
      ]
    },
    {
      "cell_type": "markdown",
      "metadata": {
        "id": "z55aWsKc9UHS"
      },
      "source": [
        "Import train data:"
      ]
    },
    {
      "cell_type": "code",
      "metadata": {
        "id": "ZGAszr6oqoMw"
      },
      "source": [
        "data = pd.read_csv('/content/all_stocks_5yr.csv')\r\n",
        "constituents = pd.read_csv('/content/data/constituents_csv.csv')"
      ],
      "execution_count": null,
      "outputs": []
    },
    {
      "cell_type": "markdown",
      "metadata": {
        "id": "iSizpuabHBcA"
      },
      "source": [
        "Download test data from yahoo:"
      ]
    },
    {
      "cell_type": "code",
      "metadata": {
        "id": "wPft_M6lfNDM"
      },
      "source": [
        "'''\r\n",
        "assets = [c for c in constituents['Symbol']]\r\n",
        "\r\n",
        "yahoo_financials = YahooFinancials(assets)\r\n",
        "\r\n",
        "data = yahoo_financials.get_historical_price_data(start_date='2018-02-07', \r\n",
        "                                                  end_date='2020-12-31', \r\n",
        "                                                  time_interval='daily')\r\n",
        "\r\n",
        "\r\n",
        "close_prices = {}\r\n",
        "for co in data.keys():\r\n",
        "    if len(data[co]) != 1:\r\n",
        "        try:\r\n",
        "            close_prices[co] = [p['close'] for p in data[co]['prices']]\r\n",
        "        except:\r\n",
        "            close_prices[co] = [p['close'] for p in data[co]]\r\n",
        "        \r\n",
        "pd.DataFrame.from_dict(close_prices, orient='index').to_csv('/content/drive/MyDrive/SP/test_data.csv')\r\n",
        "'''"
      ],
      "execution_count": null,
      "outputs": []
    },
    {
      "cell_type": "markdown",
      "metadata": {
        "id": "NIGT3duM9WaK"
      },
      "source": [
        "Import test data:"
      ]
    },
    {
      "cell_type": "code",
      "metadata": {
        "id": "FEOpej9gG3E6"
      },
      "source": [
        "test_data = pd.read_csv('/content/drive/MyDrive/SP/test_data.csv')\r\n",
        "test_data = test_data.rename(columns={'Unnamed: 0':'ticker'})"
      ],
      "execution_count": null,
      "outputs": []
    },
    {
      "cell_type": "code",
      "metadata": {
        "id": "U_gKsJuD2Vnm"
      },
      "source": [
        "def evaluate_log_returns(x):\r\n",
        "    '''\r\n",
        "    Function that given an array of closing prices gives in\r\n",
        "    output the log-returns.\r\n",
        "    '''\r\n",
        "    log_returns = []\r\n",
        "    for i in range(1, len(x)):\r\n",
        "        log_returns.append( np.log(x[i]) - np.log(x[i-1]) )\r\n",
        "    return log_returns"
      ],
      "execution_count": null,
      "outputs": []
    },
    {
      "cell_type": "markdown",
      "metadata": {
        "id": "RGgwMQ6j_wrn"
      },
      "source": [
        " Data manipulation:"
      ]
    },
    {
      "cell_type": "code",
      "metadata": {
        "id": "GjvqAdy3sgb8"
      },
      "source": [
        "del data['open']\n",
        "del data['high']\n",
        "del data['low']\n",
        "del data['volume']\n",
        "df = data.groupby('Name')['close'].apply(list).reset_index()"
      ],
      "execution_count": null,
      "outputs": []
    },
    {
      "cell_type": "markdown",
      "metadata": {
        "id": "bDIOM2ymZOkj"
      },
      "source": [
        "Compute the returns:"
      ]
    },
    {
      "cell_type": "code",
      "metadata": {
        "id": "0JeWf9bEu7Ph"
      },
      "source": [
        "df['returns'] = df['close'].apply(evaluate_log_returns)\r\n",
        "del df['close']"
      ],
      "execution_count": null,
      "outputs": []
    },
    {
      "cell_type": "markdown",
      "metadata": {
        "id": "ylLPbmPZ_5GY"
      },
      "source": [
        "Merge the returns dataframe with the constituents:"
      ]
    },
    {
      "cell_type": "code",
      "metadata": {
        "id": "wNtnUDQ91Mr8"
      },
      "source": [
        "df = pd.merge(df, constituents, left_on='Name', right_on='Symbol', how='left')\n",
        "del df['Name_x']\n",
        "df = df.rename(columns={'Name_y':'Name'})\n",
        "df = df[df['Symbol'].isna() == False]\n",
        "df.index = [i for i in range(df.shape[0])] "
      ],
      "execution_count": null,
      "outputs": []
    },
    {
      "cell_type": "markdown",
      "metadata": {
        "id": "lidgpkHsyRRK"
      },
      "source": [
        "There are some missing values due the computation of the returns, they are few, we can get rid of them."
      ]
    },
    {
      "cell_type": "code",
      "metadata": {
        "id": "dBJxsI87uy1W"
      },
      "source": [
        "returns = df['returns'].apply(pd.Series)\r\n",
        "idx_to_drop = np.where(np.any(np.isnan(returns.values) ,axis=1))\r\n",
        "df = df.drop(idx_to_drop[0])"
      ],
      "execution_count": null,
      "outputs": []
    },
    {
      "cell_type": "markdown",
      "metadata": {
        "id": "yv93IzIc9o9W"
      },
      "source": [
        "Test data alignment with train and drop nans:"
      ]
    },
    {
      "cell_type": "code",
      "metadata": {
        "id": "IHfuENz6tU5b"
      },
      "source": [
        "test_data = pd.merge(df['Symbol'], test_data, left_on='Symbol', right_on='ticker', how='left')"
      ],
      "execution_count": null,
      "outputs": []
    },
    {
      "cell_type": "code",
      "metadata": {
        "id": "Mni2AdVYO1pz"
      },
      "source": [
        "test_temp_returns = np.apply_along_axis(evaluate_log_returns, axis=1, arr=test_data.iloc[:, 2:].values)\r\n",
        "test_data = pd.merge(pd.DataFrame(test_temp_returns), test_data['ticker'], \r\n",
        "                     left_index=True, right_index=True)\r\n",
        "idx_to_drop = np.where(np.any(np.isnan(test_temp_returns) ,axis=1))\r\n",
        "test_data = test_data.drop(idx_to_drop[0])"
      ],
      "execution_count": null,
      "outputs": []
    },
    {
      "cell_type": "markdown",
      "metadata": {
        "id": "c6509BUt98x_"
      },
      "source": [
        "Merge the data in the same df to be sure that all the indexes match:"
      ]
    },
    {
      "cell_type": "code",
      "metadata": {
        "id": "FAny26TEZExy"
      },
      "source": [
        "df = pd.merge(test_data, df, left_on='ticker', right_on='Symbol', how='inner')"
      ],
      "execution_count": null,
      "outputs": []
    },
    {
      "cell_type": "markdown",
      "metadata": {
        "id": "tVrUiCBY-OPh"
      },
      "source": [
        "Get the train and test matrices with the returns:"
      ]
    },
    {
      "cell_type": "code",
      "metadata": {
        "id": "aFvLWQsfQq3N"
      },
      "source": [
        "test_returns = df.iloc[:, 1:730].values\r\n",
        "returns = df['returns'].apply(pd.Series).values"
      ],
      "execution_count": null,
      "outputs": []
    },
    {
      "cell_type": "markdown",
      "metadata": {
        "id": "qNwy3NYBsUP8"
      },
      "source": [
        "### Graphical lasso "
      ]
    },
    {
      "cell_type": "markdown",
      "metadata": {
        "id": "OlkzgEf1jlzI"
      },
      "source": [
        "The graphical lasso algorithm is taken from the sklearn library."
      ]
    },
    {
      "cell_type": "code",
      "metadata": {
        "id": "xUfHHmPCeKEM"
      },
      "source": [
        "from sklearn.covariance import graphical_lasso\r\n",
        "\r\n",
        "emp_cov_matrix = np.cov(returns)\r\n",
        "glasso_cov_matrix, glasso_prec_matrix = graphical_lasso(emp_cov_matrix, alpha=0.0002)"
      ],
      "execution_count": null,
      "outputs": []
    },
    {
      "cell_type": "markdown",
      "metadata": {
        "id": "H9Zlnqo3sYNj"
      },
      "source": [
        "### Build graph"
      ]
    },
    {
      "cell_type": "code",
      "metadata": {
        "id": "IW52rwFDhxy9"
      },
      "source": [
        "def partial_from_precision(prec_matrix):\r\n",
        "    '''\r\n",
        "    Function that evaluates the partial correlation matrix \r\n",
        "    from the precision matrix.\r\n",
        "    '''\r\n",
        "    partial_corr_matrix = np.zeros_like(prec_matrix)\r\n",
        "\r\n",
        "    # diagonal terms\r\n",
        "    for i in range(len(prec_matrix)):\r\n",
        "        partial_corr_matrix[i,i] = 1/prec_matrix[i,i]\r\n",
        "\r\n",
        "    # off diagonal terms\r\n",
        "    for i in range(len(prec_matrix)-1):\r\n",
        "        for j in range(i+1, len(prec_matrix)):\r\n",
        "            partial_corr_matrix[i,j] = -prec_matrix[i,j]/(prec_matrix[i,i]*prec_matrix[j,j])**0.5\r\n",
        "            partial_corr_matrix[j,i] = partial_corr_matrix[i,j]\r\n",
        "    return partial_corr_matrix\r\n",
        "\r\n",
        "\r\n",
        "def create_graph(alpha, returns, remove_discovery=False):\r\n",
        "    '''\r\n",
        "    Given the data: returns and the regularization parameter for GLasso:  alpha:\r\n",
        "    this functions created a graph from the partial correlation and gives in output\r\n",
        "    a graph object. remove_discovery is to wheter remove or not the discovery inc stocks.\r\n",
        "    '''\r\n",
        "    cov_matrix = np.cov(returns)\r\n",
        "    glasso_cov_matrix, glasso_prec_matrix = graphical_lasso(cov_matrix, alpha=alpha, max_iter=1000)\r\n",
        "    G = nx.Graph()\r\n",
        "    partial_glasso = partial_from_precision(glasso_prec_matrix)\r\n",
        "    for i in range(partial_glasso.shape[0]-1):\r\n",
        "        for j in range(i+1, partial_glasso.shape[0]):\r\n",
        "            \r\n",
        "            if partial_glasso[i,j] != 0 :\r\n",
        "                if remove_discovery:\r\n",
        "                    if df['Symbol'].iloc[i] != 'DISCK' and df['Symbol'].iloc[i] != 'DISCA':\r\n",
        "                        G.add_edge(df['Symbol'].iloc[i], df['Symbol'].iloc[j], weight = partial_glasso[i,j])\r\n",
        "                else:\r\n",
        "                    G.add_edge(df['Symbol'].iloc[i], df['Symbol'].iloc[j], weight = partial_glasso[i,j])\r\n",
        "    return G"
      ],
      "execution_count": null,
      "outputs": []
    },
    {
      "cell_type": "code",
      "metadata": {
        "cellView": "form",
        "id": "gNELc8EF304U"
      },
      "source": [
        "#@title Plot options\n",
        "import matplotlib.patches as mpatches\n",
        "cmap = ['#0066ff', '#006622', '#b30000', '#996633', '#cc3399', '#6699ff' ,'#66ff66', '#cc3300', '#003366', '#000000', '#fa8072']\n",
        "\n",
        "cmap_sector = {}\n",
        "\n",
        "for idx, sec in enumerate(df['Sector'].unique()):\n",
        "    cmap_sector[sec] = cmap[idx]\n",
        "\n",
        "color_patches = []\n",
        "for sec, col in cmap_sector.items():\n",
        "    color_patches.append(mpatches.Patch(color=col, label=sec))"
      ],
      "execution_count": null,
      "outputs": []
    },
    {
      "cell_type": "code",
      "metadata": {
        "id": "fH9g2gHP5_hZ"
      },
      "source": [
        "'''\r\n",
        "This will be useful to check the sector of each company faster.\r\n",
        "'''\r\n",
        "symbol_sector = {}\r\n",
        "\r\n",
        "for sym, sec in df.loc[:,['Symbol', 'Sector']].values:\r\n",
        "    symbol_sector[sym] = sec"
      ],
      "execution_count": null,
      "outputs": []
    },
    {
      "cell_type": "markdown",
      "metadata": {
        "id": "vqeE3IDPz-Wu"
      },
      "source": [
        "Build network:"
      ]
    },
    {
      "cell_type": "code",
      "metadata": {
        "id": "muUZ6EddctS7"
      },
      "source": [
        "G = create_graph(0.0002, returns, remove_discovery=True)"
      ],
      "execution_count": null,
      "outputs": []
    },
    {
      "cell_type": "code",
      "metadata": {
        "id": "EzWh-e2fE0E5",
        "cellView": "form"
      },
      "source": [
        "#@title Network plot\n",
        "\n",
        "plt.figure(figsize=(12,12))\n",
        "\n",
        "pos = nx.spring_layout(G, k=0.1)\n",
        "\n",
        "edges = nx.draw_networkx_edges(G, pos=pos, width=1.2, alpha=1,\n",
        "                    edge_color = [abs(G[n1][n2]['weight']) for n1, n2 in G.edges()],\n",
        "                    edge_cmap = plt.get_cmap('BuPu'))\n",
        "nx.draw_networkx_nodes(G, pos=pos, node_size=[10*G.degree[node] for node in G.nodes],\n",
        "                alpha=0.7, node_color = [cmap_sector[symbol_sector[sym]] for sym in G.nodes()],\n",
        "                )\n",
        "nx.draw_networkx_labels(G, pos=pos, font_size=8, horizontalalignment='right', verticalalignment='bottom')\n",
        "plt.legend(handles=color_patches, loc='best')\n",
        "\n",
        "cbar = plt.colorbar(edges, pad=0.001)\n",
        "cbar.ax.set_ylabel('partial correlation',labelpad=15,rotation=270)\n",
        "plt.grid(False)\n",
        "plt.show()\n"
      ],
      "execution_count": null,
      "outputs": []
    },
    {
      "cell_type": "code",
      "metadata": {
        "colab": {
          "background_save": true
        },
        "id": "A5HhjniG0KSE"
      },
      "source": [
        "def create_sector_graph(alpha, returns):\r\n",
        "    '''\r\n",
        "    Given the returns and a regularization parameters this function generates\r\n",
        "    a sector graph.\r\n",
        "    '''\r\n",
        "    G = create_graph(alpha, returns, remove_discovery=True)\r\n",
        "    sector_edge_list = []\r\n",
        "    for n1,n2 in G.edges():\r\n",
        "        sector_edge_list.append((n1, n2, symbol_sector[n1], symbol_sector[n2], G[n1][n2]['weight']))\r\n",
        "    sector_edge_list_df = pd.DataFrame(sector_edge_list, columns=['n1','n2', 'sec_n1', 'sec_n2', 'w'])\r\n",
        "    sector_edge_list_df = sector_edge_list_df[sector_edge_list_df['sec_n1']!='Communication Services']\r\n",
        "    sector_edge_list_df = sector_edge_list_df.groupby(['sec_n1','sec_n2']).agg({'w':'sum'}).reset_index()\r\n",
        "    node_list = sector_edge_list_df.loc[sector_edge_list_df['sec_n1'] == sector_edge_list_df['sec_n2'], ['sec_n1', 'w']]\r\n",
        "    edge_list = sector_edge_list_df[sector_edge_list_df['sec_n1'] != sector_edge_list_df['sec_n2']]\r\n",
        "\r\n",
        "    G_sector = nx.Graph()\r\n",
        "    for n1,w in node_list.values:\r\n",
        "        G_sector.add_node(n1, attr = w)\r\n",
        "\r\n",
        "    for n1,n2,w in edge_list.values:\r\n",
        "        G_sector.add_edge(n1,n2, attr = w)\r\n",
        "    return G_sector"
      ],
      "execution_count": null,
      "outputs": []
    },
    {
      "cell_type": "code",
      "metadata": {
        "colab": {
          "background_save": true
        },
        "id": "E9MMfKgxnM0A",
        "cellView": "form"
      },
      "source": [
        "#@title Sector network plot\n",
        "import seaborn as sns\n",
        "import matplotlib as mpl\n",
        "from mpl_toolkits.axes_grid1 import make_axes_locatable\n",
        "\n",
        "plt.figure(figsize=(13,10))\n",
        "\n",
        "G_sector = create_sector_graph(0.00018, returns)\n",
        "pos = nx.spring_layout(G_sector, k=1)\n",
        "\n",
        "edges = nx.draw_networkx_edges(G_sector, pos=pos, edge_color=[G_sector[n1][n2]['attr'] for n1,n2 in G_sector.edges()],\n",
        "                       edge_cmap=sns.color_palette(\"light:b\", as_cmap=True), width=2)\n",
        "nodes = nx.draw_networkx_nodes(G_sector, pos=pos, \n",
        "                       node_color=[float(G_sector.nodes[n]['attr']) if 'attr' in G_sector.nodes[n] else 0 for n in G_sector.nodes() ],\n",
        "                       cmap = sns.color_palette(\"YlOrBr\", as_cmap=True),\n",
        "                       node_size = [100*G_sector.degree[n] for n in G_sector.nodes()])\n",
        "\n",
        "nx.draw_networkx_labels(G_sector, pos=pos,\n",
        "                        horizontalalignment='center', verticalalignment='center_baseline',\n",
        "                        font_size=8, font_color='black')\n",
        "\n",
        "\n",
        "cbar1 = plt.colorbar(edges,orientation='vertical', \n",
        "                     pad=0.0001)\n",
        "cbar2 = plt.colorbar(nodes, pad=0.001)\n",
        "cbar1.ax.set_ylabel('edges correlation score',labelpad=15,rotation=270)\n",
        "cbar2.ax.set_ylabel('nodes correlation score',labelpad=15,rotation=270)\n",
        "plt.grid(False)\n",
        "plt.show()"
      ],
      "execution_count": null,
      "outputs": []
    },
    {
      "cell_type": "markdown",
      "metadata": {
        "id": "ncRt0x0w76TH"
      },
      "source": [
        "Top edges:"
      ]
    },
    {
      "cell_type": "code",
      "metadata": {
        "colab": {
          "background_save": true
        },
        "id": "tsmH6GUH7R_K"
      },
      "source": [
        "pd.DataFrame(sorted([(n1,n2,G[n1][n2]['weight']) for n1,n2 in G.edges()], key = lambda x: x[2], reverse=True),\r\n",
        "             columns=['node 1', 'node 2', 'partial correlation'])[:10]"
      ],
      "execution_count": null,
      "outputs": []
    },
    {
      "cell_type": "markdown",
      "metadata": {
        "id": "z8UhFAIcVUH2"
      },
      "source": [
        "Top triangles:"
      ]
    },
    {
      "cell_type": "code",
      "metadata": {
        "colab": {
          "background_save": true
        },
        "id": "Qfq5dF3FUDUx"
      },
      "source": [
        "triangles = [x for x in nx.enumerate_all_cliques(G) if len(x)==3]\r\n",
        "triangles_weights = {}\r\n",
        "\r\n",
        "for n1,n2,n3 in triangles:\r\n",
        "    tot_tr_weight = 0\r\n",
        "    tot_tr_weight += abs(G[n1][n2]['weight'])\r\n",
        "    tot_tr_weight += abs(G[n2][n3]['weight'])\r\n",
        "    tot_tr_weight += abs(G[n1][n3]['weight'])\r\n",
        "    triangles_weights[(n1,n2,n3)] = tot_tr_weight/3\r\n",
        "\r\n",
        "triangles_weights = sorted(triangles_weights.items(), key=lambda x: x[1], reverse=True)[:10]"
      ],
      "execution_count": null,
      "outputs": []
    },
    {
      "cell_type": "code",
      "metadata": {
        "colab": {
          "background_save": true
        },
        "id": "UBbZIrZ65rjy",
        "cellView": "form"
      },
      "source": [
        "#@title Top triangles table\n",
        "top_triangles = pd.DataFrame(triangles_weights, columns=['vertices', 'partial correlation'])\n",
        "pd.concat([top_triangles, \n",
        "           pd.Series([symbol_sector[co[0][0]] for co in triangles_weights], name='Sector')], axis=1)"
      ],
      "execution_count": null,
      "outputs": []
    },
    {
      "cell_type": "markdown",
      "metadata": {
        "id": "-F4C2JENEvl7"
      },
      "source": [
        "#### Centrality, exp returns and volatility plots:"
      ]
    },
    {
      "cell_type": "code",
      "metadata": {
        "id": "kxkx3Z_MC3-9"
      },
      "source": [
        "G = create_graph(0.00023, returns)\r\n",
        "node_degrees = {sym:deg for sym,deg in nx.eigenvector_centrality(G).items()}\r\n",
        "node_degrees_df = pd.DataFrame.from_dict(node_degrees, orient='index').reset_index()\r\n",
        "\r\n",
        "node_degrees_df = pd.merge(constituents, node_degrees_df, how='right', left_on='Symbol', right_on='index')\r\n",
        "node_degrees_df = node_degrees_df.rename(columns = {0:'Degree'})\r\n",
        "\r\n",
        "node_degrees_df = pd.merge(node_degrees_df, df, on='Symbol', how='left')\r\n",
        "\r\n",
        "node_degrees_df['exp_returns'] = node_degrees_df['returns'].apply(pd.Series).mean(axis=1) \r\n",
        "node_degrees_df['volatility'] = node_degrees_df['returns'].apply(pd.Series).std(axis=1)"
      ],
      "execution_count": null,
      "outputs": []
    },
    {
      "cell_type": "code",
      "metadata": {
        "cellView": "form",
        "id": "JLYpGMtm0rbx"
      },
      "source": [
        "#@title Centrality plots\n",
        "plt.figure(figsize=(15,7))\n",
        "plt.subplot(1,2,1)\n",
        "plt.scatter(node_degrees_df['exp_returns'], node_degrees_df['volatility'], \n",
        "            c=node_degrees_df['exp_returns']/node_degrees_df['volatility'],\n",
        "            s = 500*node_degrees_df['Degree'])\n",
        "plt.xlabel('exp returns')\n",
        "plt.ylabel('volatility')\n",
        "\n",
        "plt.subplot(1,2,2)\n",
        "plt.scatter(node_degrees_df['Degree'], node_degrees_df['volatility'], \n",
        "            c=node_degrees_df['exp_returns']/node_degrees_df['volatility'],\n",
        "            )\n",
        "plt.xlabel('centrality')\n",
        "plt.ylabel('volatility')\n",
        "cbar = plt.colorbar(pad=0.001)\n",
        "cbar.ax.set_ylabel('coefficient of variation',labelpad=15,rotation=270)"
      ],
      "execution_count": null,
      "outputs": []
    },
    {
      "cell_type": "markdown",
      "metadata": {
        "id": "lk51fm5zXBTV"
      },
      "source": [
        "### Portfolio optimization "
      ]
    },
    {
      "cell_type": "code",
      "metadata": {
        "id": "wyMP2zPCXAIE",
        "cellView": "form"
      },
      "source": [
        "#@title All portfolio functions\n",
        "import cvxpy as cp\n",
        "\n",
        "def minimum_variance_portfolio(returns):\n",
        "    '''\n",
        "    Computes the minimum variance portfolio weights.\n",
        "    '''\n",
        "    cov_matrix = np.cov(returns)\n",
        "    w = cp.Variable(cov_matrix.shape[0])\n",
        "    risk = cp.quad_form(w, cov_matrix) \n",
        "    constraints = [cp.sum(w) == 1, w >= 0]\n",
        "    prob = cp.Problem(cp.Minimize(risk),\n",
        "                                constraints)\n",
        "    prob.solve()\n",
        "    return  w.value\n",
        "\n",
        "def cumulative_return(returns, weights):\n",
        "    '''\n",
        "    Evaluates the wealth on the given returns data.\n",
        "    '''\n",
        "    return np.cumprod(1+np.sum((returns*weights.reshape(-1,1)), axis=0))\n",
        "\n",
        "def time_series_cross_validation(data, n_fold = 10):\n",
        "    '''\n",
        "    Iterable on which the iterations give the train and test data for each fold.\n",
        "    '''\n",
        "    train_size = 150\n",
        "    test_size = 100 \n",
        "    train_idx = 0\n",
        "    for i in range(0,5):\n",
        "       \n",
        "        train_data = data[:, train_idx: train_idx + train_size]\n",
        "        test_data = data[:, train_idx + train_size:train_idx + train_size + test_size]\n",
        "        train_idx += train_size + test_size\n",
        "        yield train_data, test_data\n",
        "\n",
        "def validate_portfolios(returns, k=20, alpha=0.00025):\n",
        "\n",
        "    '''\n",
        "    Main cross validation function. The iteration is performed on different folds\n",
        "    of the train data. The idea of this tuning cycle is explained in the report. \n",
        "    '''\n",
        "    mv_tot_wealth = []\n",
        "    centrality_tot_wealth = []\n",
        "    naive_tot_wealth = []\n",
        "\n",
        "    for train_data ,test_data in time_series_cross_validation(returns, n_fold=10):\n",
        "        \n",
        "        train_emp_cov_matrix = np.cov(train_data)\n",
        "\n",
        "        # get the weights from the train set\n",
        "        train_mv_weights = minimum_variance_portfolio(train_data)\n",
        "        train_centrality_weights = centrality_portfolio(train_data, k, alpha)\n",
        "        train_naive_weights = 1/train_data.shape[0]*np.ones(train_data.shape[0])\n",
        "\n",
        "\n",
        "        # evaluate the wealth on the test set\n",
        "        mv_wealth = cumulative_return(test_data, train_mv_weights)\n",
        "        centrality_wealth = cumulative_return(test_data, train_centrality_weights)\n",
        "        naive_wealth = cumulative_return(test_data, train_naive_weights)\n",
        "\n",
        "        # save results\n",
        "        mv_tot_wealth.append(mv_wealth)\n",
        "        centrality_tot_wealth.append(centrality_wealth)\n",
        "        naive_tot_wealth.append(naive_wealth)\n",
        "\n",
        "    return mv_tot_wealth, centrality_tot_wealth, naive_tot_wealth\n",
        "\n",
        "def centrality_portfolio(returns, k, alpha):\n",
        "    '''\n",
        "    Function that given the data, k (number of nodes to select as explained in the report),\n",
        "    and the GLasso regularization parameter computes the weights of the centrality portfolio.\n",
        "    '''\n",
        "    G = create_graph(alpha, returns)\n",
        "    node_degrees = {sym:deg for sym,deg in nx.eigenvector_centrality(G).items()}\n",
        "    node_degrees_df = pd.DataFrame.from_dict(node_degrees, orient='index').reset_index()\n",
        "    lowest_centr_idx = pd.merge(node_degrees_df.loc[:,['index', 0]], df['Symbol'], \n",
        "            left_on='index',right_on='Symbol', how='right').sort_values(by=0)[:k].index\n",
        "    centrality_weights = np.zeros(returns.shape[0])\n",
        "    centrality_weights[lowest_centr_idx] = 1/k\n",
        "    return centrality_weights"
      ],
      "execution_count": null,
      "outputs": []
    },
    {
      "cell_type": "markdown",
      "metadata": {
        "id": "YfH-WhuhisUQ"
      },
      "source": [
        "Validate all porfolios:"
      ]
    },
    {
      "cell_type": "code",
      "metadata": {
        "id": "jj90dL-z9wUO"
      },
      "source": [
        "mw_wealth , centrality_wealth, naive_wealth = validate_portfolios(returns ,k=20, alpha=0.00025)"
      ],
      "execution_count": null,
      "outputs": []
    },
    {
      "cell_type": "markdown",
      "metadata": {
        "id": "jzEnK_qui0lf"
      },
      "source": [
        "Plot of the wealth results for different portfolios for all folds:"
      ]
    },
    {
      "cell_type": "code",
      "metadata": {
        "id": "fAJfmHuU1qCr"
      },
      "source": [
        "plt.figure(figsize=(12,7))\r\n",
        "for i in range(5):\r\n",
        "    plt.subplot(5,1,i+1)\r\n",
        "    if i == 4:\r\n",
        "        plt.xlabel('days')\r\n",
        "    if i == 2:\r\n",
        "        plt.ylabel('wealth')\r\n",
        "  \r\n",
        "    plt.plot(mw_wealth[i], label='Minimum Variance')\r\n",
        "    plt.plot(centrality_wealth[i], label='Centrality')\r\n",
        "    plt.plot(naive_wealth[i], label='Naive')\r\n",
        "    if i == 0:\r\n",
        "        plt.legend()"
      ],
      "execution_count": null,
      "outputs": []
    },
    {
      "cell_type": "markdown",
      "metadata": {
        "id": "BcANvebSl2Hv"
      },
      "source": [
        "Plot of the average wealth among the folds:"
      ]
    },
    {
      "cell_type": "code",
      "metadata": {
        "id": "4ediXACOFT3a"
      },
      "source": [
        "plt.figure(figsize=(12,7))\r\n",
        "plt.plot(np.mean(np.array(mw_wealth), axis=0), label='Minimum Variance')\r\n",
        "plt.plot(np.mean(np.array(centrality_wealth), axis=0), label='Centrality')\r\n",
        "plt.plot(np.mean(np.array(naive_wealth), axis=0), label='Naive')\r\n",
        "plt.xlabel('days')\r\n",
        "plt.ylabel('wealth')\r\n",
        "plt.legend()"
      ],
      "execution_count": null,
      "outputs": []
    },
    {
      "cell_type": "markdown",
      "metadata": {
        "id": "QqlXDhpMi4Z2"
      },
      "source": [
        "Generate weights for the centrality portfolio and perform the average of the weights on all the 5 folds."
      ]
    },
    {
      "cell_type": "code",
      "metadata": {
        "id": "2lTXC6Z1ae8A"
      },
      "source": [
        "cent_test_weights = 0\r\n",
        "mv_test_weights = 0\r\n",
        "for train_data , _ in time_series_cross_validation(returns, n_fold=10):\r\n",
        "\r\n",
        "        cent_test_weights += centrality_portfolio(train_data, 20, alpha=0.00025) \r\n",
        "        mv_test_weights += minimum_variance_portfolio(train_data)\r\n",
        "\r\n",
        "cent_test_weights = cent_test_weights/sum(cent_test_weights)\r\n",
        "mv_test_weights = mv_test_weights/sum(mv_test_weights)\r\n",
        "\r\n",
        "\r\n",
        "M = returns.shape[0]\r\n",
        "naive_test_weights = 1/M*np.ones(M)"
      ],
      "execution_count": null,
      "outputs": []
    },
    {
      "cell_type": "markdown",
      "metadata": {
        "id": "tS25QWOPkRYn"
      },
      "source": [
        "Test results:"
      ]
    },
    {
      "cell_type": "code",
      "metadata": {
        "id": "tGRufOjpgS8J"
      },
      "source": [
        "plt.figure(figsize=(15,8))\r\n",
        "plt.plot(cumulative_return(test_returns[:, :700], weights=mv_test_weights), label='Minimum Variance')\r\n",
        "plt.plot(cumulative_return(test_returns[:, :700], weights=cent_test_weights), label='Centrality')\r\n",
        "plt.plot(cumulative_return(test_returns[:, :700], weights=naive_test_weights), label='Naive')\r\n",
        "plt.ylabel('wealth')\r\n",
        "plt.xlabel('days')\r\n",
        "plt.legend()"
      ],
      "execution_count": null,
      "outputs": []
    },
    {
      "cell_type": "markdown",
      "metadata": {
        "id": "hGLdSWrJSl9x"
      },
      "source": [
        "### Portfolio analysis"
      ]
    },
    {
      "cell_type": "code",
      "metadata": {
        "id": "sHk-sTbujqxv"
      },
      "source": [
        "def get_portfolio_weights_symbols(weights):\r\n",
        "    '''\r\n",
        "    Given the weights get the symbols of the top 20 assets in \r\n",
        "    the portfolio.\r\n",
        "    '''\r\n",
        "    portfolio_idxs = np.argsort(weights)[::-1][:20]\r\n",
        "    portfolio_weights = np.sort(weights)[::-1][:20]\r\n",
        "    portfolio_titles = df.iloc[portfolio_idxs]['Symbol'].values\r\n",
        "    return portfolio_weights, portfolio_titles"
      ],
      "execution_count": null,
      "outputs": []
    },
    {
      "cell_type": "markdown",
      "metadata": {
        "id": "TPEyPikgmO64"
      },
      "source": [
        "Plot of the barplots if the assets in the different portfolios:"
      ]
    },
    {
      "cell_type": "code",
      "metadata": {
        "colab": {
          "base_uri": "https://localhost:8080/",
          "height": 642
        },
        "id": "tG77ObspERIL",
        "outputId": "7a01a210-d7cd-4783-a005-0c01157d4465"
      },
      "source": [
        "mv_portfolio_weights, mv_portfolio_titles = get_portfolio_weights_symbols(mv_test_weights)\r\n",
        "cent_portfolio_weights, centrality_portfolio_titles = get_portfolio_weights_symbols(cent_test_weights)\r\n",
        "\r\n",
        "plt.figure(figsize=(15,10))\r\n",
        "plt.subplot(211)\r\n",
        "plt.bar(x = mv_portfolio_titles, height=mv_portfolio_weights*100)\r\n",
        "plt.xlabel('asset')\r\n",
        "plt.ylabel('weight (%)')\r\n",
        "plt.title('minmum variance portfolio')\r\n",
        "\r\n",
        "plt.subplot(212)\r\n",
        "plt.bar(x = centrality_portfolio_titles, height=cent_portfolio_weights*100)\r\n",
        "plt.xlabel('asset')\r\n",
        "plt.ylabel('weight (%)')\r\n",
        "plt.title('centrality portfolio')\r\n"
      ],
      "execution_count": null,
      "outputs": [
        {
          "output_type": "execute_result",
          "data": {
            "text/plain": [
              "Text(0.5, 1.0, 'centrality portfolio')"
            ]
          },
          "metadata": {
            "tags": []
          },
          "execution_count": 197
        },
        {
          "output_type": "display_data",
          "data": {
            "image/png": "[encoded data removed]",
            "text/plain": [
              "<Figure size 1080x720 with 2 Axes>"
            ]
          },
          "metadata": {
            "tags": []
          }
        }
      ]
    },
    {
      "cell_type": "code",
      "metadata": {
        "id": "5PCWoVZjAAX4"
      },
      "source": [
        "def get_portfolio_returns_volatility(weights):\r\n",
        "    '''\r\n",
        "    Get the expected returns and volatility on the train set of the top 20\r\n",
        "    assets in a portfolio. \r\n",
        "    '''\r\n",
        "    portfolio_idxs = np.argsort(weights)[::-1][:20]\r\n",
        "    portfolio_exp_returns = df.loc[portfolio_idxs, 'returns'].apply(pd.Series).mean(axis=1)\r\n",
        "    portfolio_volatility = df.loc[portfolio_idxs, 'returns'].apply(pd.Series).std(axis=1)\r\n",
        "    return portfolio_exp_returns, portfolio_volatility"
      ],
      "execution_count": null,
      "outputs": []
    },
    {
      "cell_type": "markdown",
      "metadata": {
        "id": "4LZMG26FmoKM"
      },
      "source": [
        "Create a network and compute for each node the centrality, average return and volatility:"
      ]
    },
    {
      "cell_type": "code",
      "metadata": {
        "id": "JhYrWG4Q-dT8"
      },
      "source": [
        "G = create_graph(0.0002, returns)\r\n",
        "node_degrees = {sym:deg for sym,deg in nx.eigenvector_centrality(G).items()}\r\n",
        "node_degrees_df = pd.DataFrame.from_dict(node_degrees, orient='index').reset_index()\r\n",
        "\r\n",
        "node_degrees_df = pd.merge(constituents, node_degrees_df, how='right', left_on='Symbol', right_on='index')\r\n",
        "node_degrees_df = node_degrees_df.rename(columns = {0:'Degree'})\r\n",
        "\r\n",
        "node_degrees_df = pd.merge(node_degrees_df, df, on='Symbol', how='left')\r\n",
        "\r\n",
        "node_degrees_df['exp_returns'] = node_degrees_df['returns'].apply(pd.Series).mean(axis=1) \r\n",
        "node_degrees_df['volatility'] = node_degrees_df['returns'].apply(pd.Series).std(axis=1)"
      ],
      "execution_count": null,
      "outputs": []
    },
    {
      "cell_type": "code",
      "metadata": {
        "id": "gNRbOZ6FABgx"
      },
      "source": [
        "mv_exp_returns, mv_volatility = get_portfolio_returns_volatility(mv_test_weights)\r\n",
        "cent_exp_returns, cent_volatility = get_portfolio_returns_volatility(cent_test_weights)"
      ],
      "execution_count": null,
      "outputs": []
    },
    {
      "cell_type": "markdown",
      "metadata": {
        "id": "7NhouEPFm4Ax"
      },
      "source": [
        "Average assets exp returns and volatility for the minimum variance portfolio:"
      ]
    },
    {
      "cell_type": "code",
      "metadata": {
        "colab": {
          "base_uri": "https://localhost:8080/"
        },
        "id": "fQO6D35gC76M",
        "outputId": "e4148f28-293a-45d9-9f72-75bdc9cb8d17"
      },
      "source": [
        "np.mean(mv_exp_returns), np.mean(mv_volatility)"
      ],
      "execution_count": null,
      "outputs": [
        {
          "output_type": "execute_result",
          "data": {
            "text/plain": [
              "(0.000290015041327073, 0.012283623032470287)"
            ]
          },
          "metadata": {
            "tags": []
          },
          "execution_count": 142
        }
      ]
    },
    {
      "cell_type": "markdown",
      "metadata": {
        "id": "USL4AHk_nAZo"
      },
      "source": [
        "Average assets exp returns and volatility for the centrality portfolio:"
      ]
    },
    {
      "cell_type": "code",
      "metadata": {
        "colab": {
          "base_uri": "https://localhost:8080/"
        },
        "id": "j2LODIO9DAha",
        "outputId": "27b3173e-1495-4623-d732-b5ed52b8c25d"
      },
      "source": [
        "np.mean(cent_exp_returns), np.mean(cent_volatility)"
      ],
      "execution_count": null,
      "outputs": [
        {
          "output_type": "execute_result",
          "data": {
            "text/plain": [
              "(0.0005611874431354288, 0.021934556866888756)"
            ]
          },
          "metadata": {
            "tags": []
          },
          "execution_count": 143
        }
      ]
    },
    {
      "cell_type": "code",
      "metadata": {
        "colab": {
          "base_uri": "https://localhost:8080/",
          "height": 479
        },
        "id": "UsGaVOqA-jme",
        "cellView": "form",
        "outputId": "ed8bcdae-1bfd-4830-f150-b8d6439daa6d"
      },
      "source": [
        "#@title Centrality plots for both portfolios with the highlight of top assets\r\n",
        "plt.figure(figsize=(15,7))\r\n",
        "plt.subplot(1,2,1)\r\n",
        "plt.scatter(node_degrees_df['exp_returns'], node_degrees_df['volatility'], \r\n",
        "            c=node_degrees_df['exp_returns']/node_degrees_df['volatility'],\r\n",
        "            s = 500*node_degrees_df['Degree']+10)\r\n",
        "plt.scatter(mv_exp_returns,mv_volatility, alpha=0.5, label='portfolio nodes')\r\n",
        "plt.xlabel('exp returns')\r\n",
        "plt.ylabel('volatility')\r\n",
        "plt.legend()\r\n",
        "plt.title('Minimum variance assets')\r\n",
        "plt.subplot(1,2,2)\r\n",
        "plt.scatter(node_degrees_df['exp_returns'], node_degrees_df['volatility'], \r\n",
        "            c=node_degrees_df['exp_returns']/node_degrees_df['volatility'],\r\n",
        "            s = 500*node_degrees_df['Degree']+10)\r\n",
        "plt.scatter(cent_exp_returns,cent_volatility, alpha=0.5, label='portfolio nodes')\r\n",
        "plt.xlabel('exp returns')\r\n",
        "plt.ylabel('volatility')\r\n",
        "plt.legend()\r\n",
        "plt.title('Centrality assets')"
      ],
      "execution_count": null,
      "outputs": [
        {
          "output_type": "execute_result",
          "data": {
            "text/plain": [
              "Text(0.5, 1.0, 'Centrality assets')"
            ]
          },
          "metadata": {
            "tags": []
          },
          "execution_count": 147
        },
        {
          "output_type": "display_data",
          "data": {
            "image/png": "[encoded data removed]",
            "text/plain": [
              "<Figure size 1080x504 with 2 Axes>"
            ]
          },
          "metadata": {
            "tags": []
          }
        }
      ]
    }
  ]
}